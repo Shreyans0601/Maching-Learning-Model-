{
  "cells": [
    {
      "cell_type": "markdown",
      "source": [
        "# Group 23\n",
        "##Lab 1 Linear Regression"
      ],
      "metadata": {
        "id": "o4NO6R_ztSaR"
      }
    },
    {
      "cell_type": "code",
      "execution_count": 62,
      "metadata": {
        "id": "DAXx3hQtHyc4"
      },
      "outputs": [],
      "source": [
        "import pandas as pd\n",
        "import numpy as np\n",
        "import matplotlib.pyplot as plt\n",
        "from tqdm import tqdm\n",
        "from sklearn.model_selection import train_test_split"
      ]
    },
    {
      "cell_type": "code",
      "source": [
        "from google.colab import files\n",
        "\n",
        "file = files.upload()"
      ],
      "metadata": {
        "colab": {
          "base_uri": "https://localhost:8080/",
          "height": 144
        },
        "id": "nbs6dHAFjUSf",
        "outputId": "648892ef-1b26-415d-a2e8-0ecf6198cc97"
      },
      "execution_count": 63,
      "outputs": [
        {
          "output_type": "display_data",
          "data": {
            "text/plain": [
              "<IPython.core.display.HTML object>"
            ],
            "text/html": [
              "\n",
              "     <input type=\"file\" id=\"files-b5ffd0a2-732d-425f-a438-0b49ea3780c0\" name=\"files[]\" multiple disabled\n",
              "        style=\"border:none\" />\n",
              "     <output id=\"result-b5ffd0a2-732d-425f-a438-0b49ea3780c0\">\n",
              "      Upload widget is only available when the cell has been executed in the\n",
              "      current browser session. Please rerun this cell to enable.\n",
              "      </output>\n",
              "      <script>// Copyright 2017 Google LLC\n",
              "//\n",
              "// Licensed under the Apache License, Version 2.0 (the \"License\");\n",
              "// you may not use this file except in compliance with the License.\n",
              "// You may obtain a copy of the License at\n",
              "//\n",
              "//      http://www.apache.org/licenses/LICENSE-2.0\n",
              "//\n",
              "// Unless required by applicable law or agreed to in writing, software\n",
              "// distributed under the License is distributed on an \"AS IS\" BASIS,\n",
              "// WITHOUT WARRANTIES OR CONDITIONS OF ANY KIND, either express or implied.\n",
              "// See the License for the specific language governing permissions and\n",
              "// limitations under the License.\n",
              "\n",
              "/**\n",
              " * @fileoverview Helpers for google.colab Python module.\n",
              " */\n",
              "(function(scope) {\n",
              "function span(text, styleAttributes = {}) {\n",
              "  const element = document.createElement('span');\n",
              "  element.textContent = text;\n",
              "  for (const key of Object.keys(styleAttributes)) {\n",
              "    element.style[key] = styleAttributes[key];\n",
              "  }\n",
              "  return element;\n",
              "}\n",
              "\n",
              "// Max number of bytes which will be uploaded at a time.\n",
              "const MAX_PAYLOAD_SIZE = 100 * 1024;\n",
              "\n",
              "function _uploadFiles(inputId, outputId) {\n",
              "  const steps = uploadFilesStep(inputId, outputId);\n",
              "  const outputElement = document.getElementById(outputId);\n",
              "  // Cache steps on the outputElement to make it available for the next call\n",
              "  // to uploadFilesContinue from Python.\n",
              "  outputElement.steps = steps;\n",
              "\n",
              "  return _uploadFilesContinue(outputId);\n",
              "}\n",
              "\n",
              "// This is roughly an async generator (not supported in the browser yet),\n",
              "// where there are multiple asynchronous steps and the Python side is going\n",
              "// to poll for completion of each step.\n",
              "// This uses a Promise to block the python side on completion of each step,\n",
              "// then passes the result of the previous step as the input to the next step.\n",
              "function _uploadFilesContinue(outputId) {\n",
              "  const outputElement = document.getElementById(outputId);\n",
              "  const steps = outputElement.steps;\n",
              "\n",
              "  const next = steps.next(outputElement.lastPromiseValue);\n",
              "  return Promise.resolve(next.value.promise).then((value) => {\n",
              "    // Cache the last promise value to make it available to the next\n",
              "    // step of the generator.\n",
              "    outputElement.lastPromiseValue = value;\n",
              "    return next.value.response;\n",
              "  });\n",
              "}\n",
              "\n",
              "/**\n",
              " * Generator function which is called between each async step of the upload\n",
              " * process.\n",
              " * @param {string} inputId Element ID of the input file picker element.\n",
              " * @param {string} outputId Element ID of the output display.\n",
              " * @return {!Iterable<!Object>} Iterable of next steps.\n",
              " */\n",
              "function* uploadFilesStep(inputId, outputId) {\n",
              "  const inputElement = document.getElementById(inputId);\n",
              "  inputElement.disabled = false;\n",
              "\n",
              "  const outputElement = document.getElementById(outputId);\n",
              "  outputElement.innerHTML = '';\n",
              "\n",
              "  const pickedPromise = new Promise((resolve) => {\n",
              "    inputElement.addEventListener('change', (e) => {\n",
              "      resolve(e.target.files);\n",
              "    });\n",
              "  });\n",
              "\n",
              "  const cancel = document.createElement('button');\n",
              "  inputElement.parentElement.appendChild(cancel);\n",
              "  cancel.textContent = 'Cancel upload';\n",
              "  const cancelPromise = new Promise((resolve) => {\n",
              "    cancel.onclick = () => {\n",
              "      resolve(null);\n",
              "    };\n",
              "  });\n",
              "\n",
              "  // Wait for the user to pick the files.\n",
              "  const files = yield {\n",
              "    promise: Promise.race([pickedPromise, cancelPromise]),\n",
              "    response: {\n",
              "      action: 'starting',\n",
              "    }\n",
              "  };\n",
              "\n",
              "  cancel.remove();\n",
              "\n",
              "  // Disable the input element since further picks are not allowed.\n",
              "  inputElement.disabled = true;\n",
              "\n",
              "  if (!files) {\n",
              "    return {\n",
              "      response: {\n",
              "        action: 'complete',\n",
              "      }\n",
              "    };\n",
              "  }\n",
              "\n",
              "  for (const file of files) {\n",
              "    const li = document.createElement('li');\n",
              "    li.append(span(file.name, {fontWeight: 'bold'}));\n",
              "    li.append(span(\n",
              "        `(${file.type || 'n/a'}) - ${file.size} bytes, ` +\n",
              "        `last modified: ${\n",
              "            file.lastModifiedDate ? file.lastModifiedDate.toLocaleDateString() :\n",
              "                                    'n/a'} - `));\n",
              "    const percent = span('0% done');\n",
              "    li.appendChild(percent);\n",
              "\n",
              "    outputElement.appendChild(li);\n",
              "\n",
              "    const fileDataPromise = new Promise((resolve) => {\n",
              "      const reader = new FileReader();\n",
              "      reader.onload = (e) => {\n",
              "        resolve(e.target.result);\n",
              "      };\n",
              "      reader.readAsArrayBuffer(file);\n",
              "    });\n",
              "    // Wait for the data to be ready.\n",
              "    let fileData = yield {\n",
              "      promise: fileDataPromise,\n",
              "      response: {\n",
              "        action: 'continue',\n",
              "      }\n",
              "    };\n",
              "\n",
              "    // Use a chunked sending to avoid message size limits. See b/62115660.\n",
              "    let position = 0;\n",
              "    do {\n",
              "      const length = Math.min(fileData.byteLength - position, MAX_PAYLOAD_SIZE);\n",
              "      const chunk = new Uint8Array(fileData, position, length);\n",
              "      position += length;\n",
              "\n",
              "      const base64 = btoa(String.fromCharCode.apply(null, chunk));\n",
              "      yield {\n",
              "        response: {\n",
              "          action: 'append',\n",
              "          file: file.name,\n",
              "          data: base64,\n",
              "        },\n",
              "      };\n",
              "\n",
              "      let percentDone = fileData.byteLength === 0 ?\n",
              "          100 :\n",
              "          Math.round((position / fileData.byteLength) * 100);\n",
              "      percent.textContent = `${percentDone}% done`;\n",
              "\n",
              "    } while (position < fileData.byteLength);\n",
              "  }\n",
              "\n",
              "  // All done.\n",
              "  yield {\n",
              "    response: {\n",
              "      action: 'complete',\n",
              "    }\n",
              "  };\n",
              "}\n",
              "\n",
              "scope.google = scope.google || {};\n",
              "scope.google.colab = scope.google.colab || {};\n",
              "scope.google.colab._files = {\n",
              "  _uploadFiles,\n",
              "  _uploadFilesContinue,\n",
              "};\n",
              "})(self);\n",
              "</script> "
            ]
          },
          "metadata": {}
        },
        {
          "output_type": "stream",
          "name": "stdout",
          "text": [
            "Saving concreteData.csv to concreteData (1).csv\n",
            "Saving housing.csv to housing (1).csv\n",
            "Saving yachtData.csv to yachtData (1).csv\n"
          ]
        }
      ]
    },
    {
      "cell_type": "markdown",
      "source": [],
      "metadata": {
        "id": "iIR-hVqhjUDt"
      }
    },
    {
      "cell_type": "code",
      "execution_count": 64,
      "metadata": {
        "id": "QQ7ZmFyyHyc6"
      },
      "outputs": [],
      "source": [
        "#Defining The Model\n",
        "class LinearRegression:\n",
        "#Defining All the Parameters\n",
        "    def __init__(self, X, y, tolerance, learning_Rate, max_Iteration, regulerization = False,\n",
        "     regulerization_Rate = 0, batch = 10, optimizer = 'GD', error = 'SSE') -> None:\n",
        "        self.X = X\n",
        "        self.y = y\n",
        "        self.regulerization_Rate = regulerization_Rate\n",
        "        self.learning_Rate = learning_Rate\n",
        "        self.max_Iteration = max_Iteration\n",
        "        self.tolerance = tolerance\n",
        "        self.optimizer = optimizer\n",
        "        self.regulerization = regulerization\n",
        "        self.batch = batch\n",
        "        self.error = error\n",
        "\n",
        "#Splitting the data\n",
        "    def dataSplit(self):\n",
        "        X_train, X_test, y_train, y_test = train_test_split(self.X, self.y,\n",
        "         test_size = 0.35, random_state = 0)\n",
        "        return X_train, X_test, y_train, y_test\n",
        "\n",
        "    def add_X0(self, X):\n",
        "        return np.column_stack([np.ones([X.shape[0], 1]), X])\n",
        "\n",
        "#Normalizing the data using mean and standard deviation\n",
        "    def normalize(self, X):\n",
        "        mean = np.mean(X,0)\n",
        "        std = np.std(X,0)\n",
        "        X_norm = (X - mean)/std\n",
        "        X_norm = self.add_X0(X_norm)\n",
        "        return X_norm, mean, std\n",
        "\n",
        "#Normalizing the test data\n",
        "    def normalizeTestData(self, X, mean, std):\n",
        "        X_norm = (X - mean)/std\n",
        "        X_norm1 = self.add_X0(X_norm)\n",
        "        return X_norm1\n",
        "\n",
        "#Checking for full Rank\n",
        "    def checkRank(self, X):\n",
        "        rank = np.linalg.matrix_rank(X)\n",
        "        if rank == min(X.shape[0],X.shape[1]):\n",
        "            self.fullRank = True\n",
        "            print('Data is full rank')\n",
        "        else:\n",
        "            self.fullRank = False\n",
        "            print('Data is not full rank')\n",
        "\n",
        "#Checking if Matrix is inversible or not\n",
        "    def checkInversible(self, X):\n",
        "        if X.shape[0] < X.shape[1]:\n",
        "            self.lowRank = True\n",
        "            print('data is low rank')\n",
        "        else:\n",
        "            self.lowRank = False\n",
        "            print('data is not low rank')\n",
        "# Solving for the weights using the Normal Equation\n",
        "    def Normal_Equation(self, X, y):\n",
        "       if self.regulerization:\n",
        "          regularization_term = self.regulerization_Rate * np.identity(X.shape[1])\n",
        "          n = np.linalg.inv(X.T.dot(X) + regularization_term).dot(X.T).dot(y)\n",
        "       else:\n",
        "          n = np.linalg.inv(X.T.dot(X)).dot(X.T).dot(y)\n",
        "       return n\n",
        "\n",
        " # Making predictions based on the learned weights\n",
        "    def predict(self, X):\n",
        "        y_hat = X.dot(self.theta)\n",
        "        return y_hat\n",
        "\n",
        "# Calculating the Root Mean Square Error (RMSE)\n",
        "    def rmse(self, X, y):\n",
        "        return np.sqrt(((self.sse(X, y)).sum()) / X.shape[0])\n",
        "\n",
        "# Calculating the Sum of Squared Errors (SSE)\n",
        "    def sse(self, X, y):\n",
        "        y_hat = self.predict(X)\n",
        "        return ((y_hat - y)**2).sum()\n",
        "\n",
        "# Performing Gradient Descent optimization\n",
        "    def gradient_Descent(self, X, y):\n",
        "        print('Implementing Gradient Descent')\n",
        "        errors = []\n",
        "        last_error = float('inf')\n",
        "\n",
        "        if self.regulerization:\n",
        "            print('Implementing regularization')\n",
        "            for i in tqdm(range(self.max_Iteration)):\n",
        "                self.theta = self.theta - self.learning_Rate * (self.costDerivative(X, y) +\n",
        "                 (self.regulerization_Rate * self.theta))\n",
        "                if self.error == 'RMSE':\n",
        "                    current_error = self.rmse(X, y)\n",
        "                else:\n",
        "                    current_error = self.sse(X,y)\n",
        "                diff = last_error - current_error\n",
        "                last_error = current_error\n",
        "                errors.append(current_error)\n",
        "                if diff < self.tolerance:\n",
        "                    print('Model has stopped learning')\n",
        "                    break\n",
        "\n",
        "        else:\n",
        "            print('Not using regularization')\n",
        "            for i in tqdm(range(self.max_Iteration)):\n",
        "                self.theta = self.theta - self.learning_Rate * self.costDerivative(X, y)\n",
        "                if self.error == 'RMSE':\n",
        "                    current_error = self.rmse(X, y)\n",
        "                else:\n",
        "                    current_error = self.sse(X,y)\n",
        "                diff = last_error - current_error\n",
        "                last_error = current_error\n",
        "                errors.append(current_error)\n",
        "                if diff < self.tolerance:\n",
        "                    print('Model has stopped learning')\n",
        "                    break\n",
        "        self.plot_error(errors)\n",
        "# Performing Stochastic Gradient Descent optimization\n",
        "    def stochastic_Gradient_Descent(self, X, y):\n",
        "        print('Using Stochastic Gradient Descent')\n",
        "        errors = []\n",
        "        last_error = float('inf')\n",
        "\n",
        "        if self.regulerization:\n",
        "            print('Using regularization')\n",
        "            for i in tqdm(range(self.max_Iteration)):\n",
        "                index = np.arange(X.shape[0])\n",
        "                np.random.shuffle(index)\n",
        "                X = X[index]\n",
        "                y = y[index]\n",
        "                X = X[0:self.batch]\n",
        "                y = y[0:self.batch]\n",
        "                self.theta = self.theta - self.learning_Rate * (self.costDerivative(X, y) +\n",
        "                 (self.regulerization_Rate * self.theta))\n",
        "                if self.error == 'RMSE':\n",
        "                    current_error = self.rmse(X, y)\n",
        "                else:\n",
        "                    current_error = self.sse(X,y)\n",
        "                diff = last_error - current_error\n",
        "                last_error = current_error\n",
        "                errors.append(current_error)\n",
        "                if diff < self.tolerance:\n",
        "                    print('Model stopped Learning')\n",
        "                    break\n",
        "\n",
        "        else:\n",
        "            print('Not implementing regularization')\n",
        "            for i in tqdm(range(self.max_Iteration)):\n",
        "                index = np.arange(X.shape[0])\n",
        "                np.random.shuffle(index)\n",
        "                X = X[index]\n",
        "                y = y[index]\n",
        "                X = X[0:self.batch]\n",
        "                y = y[0:self.batch]\n",
        "                self.theta = self.theta - self.learning_Rate * self.costDerivative(X, y)\n",
        "                if self.error == 'RMSE':\n",
        "                    current_error = self.rmse(X, y)\n",
        "                else:\n",
        "                    current_error = self.sse(X,y)\n",
        "                diff = last_error - current_error\n",
        "                last_error = current_error\n",
        "                errors.append(current_error)\n",
        "                if diff < self.tolerance:\n",
        "                    print('Model has stopped learning')\n",
        "                    break\n",
        "\n",
        "        self.plot_error(errors)\n",
        "\n",
        "# Calculating the derivative of the cost function\n",
        "    def costDerivative(self, X, y):\n",
        "        y_hat = self.predict(X)\n",
        "        return (y_hat - y).dot(X)\n",
        "\n",
        "# Calculating the cost function\n",
        "    def costFunction(self, X, y):\n",
        "        return self.sse(X, y)/2\n",
        "\n",
        "# Fitting the model to the data\n",
        "    def fit(self):\n",
        "        X_train, X_test, y_train, y_test = self.dataSplit()\n",
        "\n",
        "        X_train, mean, std = self.normalize(X_train)\n",
        "        X_test = self.normalizeTestData(X_test, mean, std)\n",
        "\n",
        "        self.checkRank(X_train)\n",
        "        self.checkInversible(X_train)\n",
        "\n",
        "        if self.fullRank and not self.lowRank and X_train.shape[0] <= 10000 and self.optimizer == 'Normal':\n",
        "            print('Closed Form Solution')\n",
        "            self.theta = self.Normal_Equation(X_train, y_train)\n",
        "\n",
        "        else:\n",
        "            if self.optimizer == 'SGD':\n",
        "                print('Stochastic Gradient Descent')\n",
        "                self.theta = np.ones(X_train.shape[1], dtype = np.float16)*0\n",
        "                self.stochastic_Gradient_Descent(X_train, y_train)\n",
        "\n",
        "            else:\n",
        "                print('Gradient Descent')\n",
        "                self.theta = np.ones(X_train.shape[1], dtype = np.float16)*0\n",
        "                self.gradient_Descent(X_train, y_train)\n",
        "\n",
        "        print(self.theta)\n",
        "        print('RMSE_test:', self.rmse(X_test, y_test))\n",
        "        print('SSE_test:', self.sse(X_test, y_test))\n",
        "\n",
        "\n",
        "\n",
        "    def plot_error(self, error_sequence):\n",
        "\n",
        "        s = np.array(error_sequence)\n",
        "        t = np.arange(s.size)\n",
        "\n",
        "        fig, ax = plt.subplots()\n",
        "        ax.plot(t, s,label='alpha')\n",
        "\n",
        "        ax.grid()\n",
        "\n",
        "        plt.legend(bbox_to_anchor=(1.05,1),loc=2, shadow=True)\n",
        "        plt.xlabel('Iterations')\n",
        "        plt.ylabel('Cost Function')\n",
        "        plt.show()\n",
        "\n"
      ]
    },
    {
      "cell_type": "markdown",
      "metadata": {
        "id": "CVKfbOIZHyc7"
      },
      "source": [
        "## a) Housing dataset\n",
        "learning rate = 0.4 × 10−3, tolerance = 0.5 × 10−2"
      ]
    },
    {
      "cell_type": "code",
      "execution_count": 65,
      "metadata": {
        "id": "bXbETK7lHyc9"
      },
      "outputs": [],
      "source": [
        "df = pd.read_csv('housing.csv', header=None)"
      ]
    },
    {
      "cell_type": "markdown",
      "metadata": {
        "id": "5RKhb9rOHyc9"
      },
      "source": [
        "## 1.Normal Equation"
      ]
    },
    {
      "cell_type": "code",
      "execution_count": 66,
      "metadata": {
        "colab": {
          "base_uri": "https://localhost:8080/"
        },
        "id": "1DY6Po7DHyc9",
        "outputId": "74068150-8579-4a1a-8915-a9eb4d20ff93"
      },
      "outputs": [
        {
          "output_type": "stream",
          "name": "stdout",
          "text": [
            "Data is full rank\n",
            "data is not low rank\n",
            "Closed Form Solution\n",
            "[22.85957447 -0.94879504  1.15360101  0.07017107  0.69154447 -1.98226846\n",
            "  2.59172646 -0.24118977 -3.25198169  2.09253487 -1.75616402 -2.38186724\n",
            "  0.53485973 -3.70607361]\n",
            "RMSE_test: 5.078352803430895\n",
            "SSE_test: 4590.560760908368\n"
          ]
        }
      ],
      "source": [
        "reg = LinearRegression(df.values[:, 0:-1], df.values[:,-1], tolerance = 0.005,\n",
        " learning_Rate= 0.0004, max_Iteration=50000, regulerization = True,\n",
        "  regulerization_Rate = 1, batch=100, optimizer = 'Normal', error = 'RMSE')\n",
        "reg.fit()"
      ]
    },
    {
      "cell_type": "markdown",
      "metadata": {
        "id": "zpzqc4aIHyc-"
      },
      "source": [
        "## 2. Gradient Descent"
      ]
    },
    {
      "cell_type": "code",
      "execution_count": 67,
      "metadata": {
        "colab": {
          "base_uri": "https://localhost:8080/",
          "height": 663
        },
        "id": "3WGkoVFYHyc-",
        "outputId": "a1abaadf-5999-4e74-f200-05d9889019c9"
      },
      "outputs": [
        {
          "output_type": "stream",
          "name": "stdout",
          "text": [
            "Data is full rank\n",
            "data is not low rank\n",
            "Gradient Descent\n",
            "Implementing Gradient Descent\n",
            "Implementing regularization\n"
          ]
        },
        {
          "output_type": "stream",
          "name": "stderr",
          "text": [
            "  0%|          | 33/50000 [00:00<00:02, 20977.88it/s]"
          ]
        },
        {
          "output_type": "stream",
          "name": "stdout",
          "text": [
            "Model has stopped learning\n"
          ]
        },
        {
          "output_type": "stream",
          "name": "stderr",
          "text": [
            "\n"
          ]
        },
        {
          "output_type": "display_data",
          "data": {
            "text/plain": [
              "<Figure size 640x480 with 1 Axes>"
            ],
            "image/png": "[encoded data removed]"
          },
          "metadata": {}
        },
        {
          "output_type": "stream",
          "name": "stdout",
          "text": [
            "[22.6709744  -0.76573051  0.6691532  -0.42445049  0.79172615 -0.90268661\n",
            "  3.10052963 -0.32942915 -2.17095762  0.63403043 -0.5137376  -2.21223574\n",
            "  0.5943712  -3.34908326]\n",
            "RMSE_test: 5.183123789400902\n",
            "SSE_test: 4781.9294544931345\n"
          ]
        }
      ],
      "source": [
        "reg1 = LinearRegression(df.values[:, 0:-1], df.values[:,-1], tolerance = 0.005,\n",
        " learning_Rate= 0.0004, max_Iteration=50000, regulerization = True,\n",
        "  regulerization_Rate = 1, batch=100, optimizer = 'GD', error = 'RMSE')\n",
        "reg1.fit()"
      ]
    },
    {
      "cell_type": "markdown",
      "metadata": {
        "id": "0kYSR2SDHyc-"
      },
      "source": [
        "## 3.Stochastic GD"
      ]
    },
    {
      "cell_type": "code",
      "execution_count": 68,
      "metadata": {
        "colab": {
          "base_uri": "https://localhost:8080/",
          "height": 663
        },
        "id": "odKOObg2Hyc-",
        "outputId": "e8a3f639-534b-444c-ebcb-8e23ffb80a3b"
      },
      "outputs": [
        {
          "output_type": "stream",
          "name": "stdout",
          "text": [
            "Data is full rank\n",
            "data is not low rank\n",
            "Stochastic Gradient Descent\n",
            "Using Stochastic Gradient Descent\n",
            "Using regularization\n"
          ]
        },
        {
          "output_type": "stream",
          "name": "stderr",
          "text": [
            "  0%|          | 97/50000 [00:00<00:04, 12255.55it/s]"
          ]
        },
        {
          "output_type": "stream",
          "name": "stdout",
          "text": [
            "Model stopped Learning\n"
          ]
        },
        {
          "output_type": "stream",
          "name": "stderr",
          "text": [
            "\n"
          ]
        },
        {
          "output_type": "display_data",
          "data": {
            "text/plain": [
              "<Figure size 640x480 with 1 Axes>"
            ],
            "image/png": "[encoded data removed]"
          },
          "metadata": {}
        },
        {
          "output_type": "stream",
          "name": "stdout",
          "text": [
            "[22.48502928 -0.97630588  0.807166   -0.24568951  1.09837318 -1.34630386\n",
            "  2.4050434   0.45935669 -2.38951985  1.97972767 -1.10649635 -1.57185136\n",
            "  0.28369709 -4.76072949]\n",
            "RMSE_test: 5.07057249875865\n",
            "SSE_test: 4576.5055727998215\n"
          ]
        }
      ],
      "source": [
        "reg2 = LinearRegression(df.values[:, 0:-1], df.values[:,-1], tolerance = 0.005,\n",
        " learning_Rate= 0.0004, max_Iteration=50000, regulerization = True,  regulerization_Rate = 1, batch=100, optimizer = 'SGD', error = 'RMSE')\n",
        "reg2.fit()"
      ]
    },
    {
      "cell_type": "markdown",
      "metadata": {
        "id": "fBNGG-CnHyc_"
      },
      "source": [
        "## b) Yacht Dataset\n",
        "learning rate = 0.1 × 10−2, tolerance = 0.1 × 10−2\n",
        "\n"
      ]
    },
    {
      "cell_type": "code",
      "execution_count": 69,
      "metadata": {
        "id": "de8mSsyGHyc_"
      },
      "outputs": [],
      "source": [
        "df2 = pd.read_csv('yachtData.csv', header=None)"
      ]
    },
    {
      "cell_type": "markdown",
      "metadata": {
        "id": "gp5T_devHyc_"
      },
      "source": [
        "#### 1.Normal Equation"
      ]
    },
    {
      "cell_type": "code",
      "execution_count": 70,
      "metadata": {
        "colab": {
          "base_uri": "https://localhost:8080/"
        },
        "id": "mPh3w22gHyc_",
        "outputId": "a7f87495-be0d-485c-9a76-266616a0725f"
      },
      "outputs": [
        {
          "output_type": "stream",
          "name": "stdout",
          "text": [
            "Data is full rank\n",
            "data is not low rank\n",
            "Closed Form Solution\n",
            "[11.06492537  0.38722252 -0.5568673   0.6317603  -1.19407233 -1.90900327\n",
            " 12.67349837]\n",
            "RMSE_test: 8.979606646144859\n",
            "SSE_test: 8708.400236104802\n"
          ]
        }
      ],
      "source": [
        "reg1 = LinearRegression(df2.values[:, 0:-1], df2.values[:,-1], tolerance = 0.001,\n",
        " learning_Rate= 0.001, max_Iteration=50000, regulerization = True,\n",
        "  regulerization_Rate = 1, batch=100, optimizer = 'Normal', error = 'RMSE')\n",
        "reg1.fit()"
      ]
    },
    {
      "cell_type": "markdown",
      "metadata": {
        "id": "FhOdFl6yHyc_"
      },
      "source": [
        "## 2.Gradient Descent"
      ]
    },
    {
      "cell_type": "code",
      "execution_count": 71,
      "metadata": {
        "colab": {
          "base_uri": "https://localhost:8080/",
          "height": 645
        },
        "id": "BXmLNgMeHyc_",
        "outputId": "26afba0b-c683-4bad-cd75-be4558314043"
      },
      "outputs": [
        {
          "output_type": "stream",
          "name": "stdout",
          "text": [
            "Data is full rank\n",
            "data is not low rank\n",
            "Gradient Descent\n",
            "Implementing Gradient Descent\n",
            "Implementing regularization\n"
          ]
        },
        {
          "output_type": "stream",
          "name": "stderr",
          "text": [
            "  0%|          | 21/50000 [00:00<00:02, 17431.30it/s]"
          ]
        },
        {
          "output_type": "stream",
          "name": "stdout",
          "text": [
            "Model has stopped learning\n"
          ]
        },
        {
          "output_type": "stream",
          "name": "stderr",
          "text": [
            "\n"
          ]
        },
        {
          "output_type": "display_data",
          "data": {
            "text/plain": [
              "<Figure size 640x480 with 1 Axes>"
            ],
            "image/png": "[encoded data removed]"
          },
          "metadata": {}
        },
        {
          "output_type": "stream",
          "name": "stdout",
          "text": [
            "[10.98549664  0.36729279 -0.86605668 -0.5558454  -0.21865395 -0.76374485\n",
            " 12.57788833]\n",
            "RMSE_test: 8.967883761191155\n",
            "SSE_test: 8685.67742865749\n"
          ]
        }
      ],
      "source": [
        "reg2 = LinearRegression(df2.values[:, 0:-1], df2.values[:,-1], tolerance = 0.001,\n",
        " learning_Rate= 0.001, max_Iteration=50000, regulerization = True,\n",
        "  regulerization_Rate = 1, batch=100, optimizer = 'GD', error = 'RMSE')\n",
        "reg2.fit()"
      ]
    },
    {
      "cell_type": "markdown",
      "metadata": {
        "id": "OT-02A3rHyc_"
      },
      "source": [
        "## 3.Stochastic Gradient descent"
      ]
    },
    {
      "cell_type": "code",
      "execution_count": 72,
      "metadata": {
        "colab": {
          "base_uri": "https://localhost:8080/",
          "height": 645
        },
        "id": "vMmf-mWZHyc_",
        "outputId": "1f70162e-e668-4ec6-8c07-a1589a374447"
      },
      "outputs": [
        {
          "output_type": "stream",
          "name": "stdout",
          "text": [
            "Data is full rank\n",
            "data is not low rank\n",
            "Stochastic Gradient Descent\n",
            "Using Stochastic Gradient Descent\n",
            "Using regularization\n"
          ]
        },
        {
          "output_type": "stream",
          "name": "stderr",
          "text": [
            "  0%|          | 44/50000 [00:00<00:05, 9145.16it/s]"
          ]
        },
        {
          "output_type": "stream",
          "name": "stdout",
          "text": [
            "Model stopped Learning\n"
          ]
        },
        {
          "output_type": "stream",
          "name": "stderr",
          "text": [
            "\n"
          ]
        },
        {
          "output_type": "display_data",
          "data": {
            "text/plain": [
              "<Figure size 640x480 with 1 Axes>"
            ],
            "image/png": "[encoded data removed]"
          },
          "metadata": {}
        },
        {
          "output_type": "stream",
          "name": "stdout",
          "text": [
            "[10.4973161   0.09061939 -1.1110501  -0.59919185 -0.68728406 -0.19989156\n",
            " 12.89281944]\n",
            "RMSE_test: 8.842984404276734\n",
            "SSE_test: 8445.424302822406\n"
          ]
        }
      ],
      "source": [
        "reg3 = LinearRegression(df2.values[:, 0:-1], df2.values[:,-1], tolerance = 0.001,\n",
        " learning_Rate= 0.001, max_Iteration=50000, regulerization = True,\n",
        "  regulerization_Rate = 1, batch=100, optimizer = 'SGD', error = 'RMSE')\n",
        "reg3.fit()"
      ]
    },
    {
      "cell_type": "markdown",
      "metadata": {
        "id": "rrDYfI4eHydA"
      },
      "source": [
        "## C) Concrete Dataset\n",
        "learning rate = 0.7 × 10−3 = 0.0007, tolerance = 0.1 × 10−3 = 0.0001\n",
        "\n"
      ]
    },
    {
      "cell_type": "code",
      "execution_count": 73,
      "metadata": {
        "id": "Nnvopt63HydA"
      },
      "outputs": [],
      "source": [
        "df3 = pd.read_csv('concreteData.csv', header=None)"
      ]
    },
    {
      "cell_type": "markdown",
      "metadata": {
        "id": "MCuvfXMLHydA"
      },
      "source": [
        "#### 1.Normal Equation"
      ]
    },
    {
      "cell_type": "code",
      "execution_count": 81,
      "metadata": {
        "scrolled": true,
        "colab": {
          "base_uri": "https://localhost:8080/"
        },
        "id": "ZeC55NFuHydA",
        "outputId": "0d022004-0c06-40bb-e69d-92d268a01450"
      },
      "outputs": [
        {
          "output_type": "stream",
          "name": "stdout",
          "text": [
            "Data is full rank\n",
            "data is not low rank\n",
            "Closed Form Solution\n",
            "[35.65398507 12.54996585  9.16441772  5.60019486 -2.62533796  2.43376764\n",
            "  1.63135244  1.58840293  6.98066253]\n",
            "RMSE_test: 9.937574162903907\n",
            "SSE_test: 35650.69226780071\n"
          ]
        }
      ],
      "source": [
        "reg1 = LinearRegression(df3.values[:, 0:-1], df3.values[:,-1], tolerance = 0.0001,\n",
        " learning_Rate= 0.0007, max_Iteration=50000, regulerization = True,\n",
        "  regulerization_Rate = 1, batch=100, optimizer = 'Normal', error = 'RMSE')\n",
        "reg1.fit()"
      ]
    },
    {
      "cell_type": "markdown",
      "metadata": {
        "id": "mbYsA-i3HydA"
      },
      "source": [
        "## 2.Gradient Descent"
      ]
    },
    {
      "cell_type": "code",
      "execution_count": 76,
      "metadata": {
        "colab": {
          "base_uri": "https://localhost:8080/",
          "height": 645
        },
        "id": "QwjpXZ9sHydA",
        "outputId": "ac942b4d-416d-4823-8ae4-e5711f981bed"
      },
      "outputs": [
        {
          "output_type": "stream",
          "name": "stdout",
          "text": [
            "Data is full rank\n",
            "data is not low rank\n",
            "Gradient Descent\n",
            "Implementing Gradient Descent\n",
            "Implementing regularization\n"
          ]
        },
        {
          "output_type": "stream",
          "name": "stderr",
          "text": [
            "  0%|          | 150/50000 [00:00<00:07, 6967.59it/s]"
          ]
        },
        {
          "output_type": "stream",
          "name": "stdout",
          "text": [
            "Model has stopped learning\n"
          ]
        },
        {
          "output_type": "stream",
          "name": "stderr",
          "text": [
            "\n"
          ]
        },
        {
          "output_type": "display_data",
          "data": {
            "text/plain": [
              "<Figure size 640x480 with 1 Axes>"
            ],
            "image/png": "[encoded data removed]"
          },
          "metadata": {}
        },
        {
          "output_type": "stream",
          "name": "stdout",
          "text": [
            "[35.65398507 12.01482184  8.62995669  5.12621519 -3.05706176  2.3856714\n",
            "  1.222624    1.07850186  6.96486766]\n",
            "RMSE_test: 9.932254629127888\n",
            "SSE_test: 35612.53520843748\n"
          ]
        }
      ],
      "source": [
        "reg2 = LinearRegression(df3.values[:, 0:-1], df3.values[:,-1], tolerance = 0.0001,\n",
        " learning_Rate= 0.0007, max_Iteration=50000, regulerization = True,\n",
        "  regulerization_Rate = 1, batch=100, optimizer = 'GD', error = 'RMSE')\n",
        "reg2.fit()"
      ]
    },
    {
      "cell_type": "markdown",
      "metadata": {
        "id": "kGThyloSHydA"
      },
      "source": [
        "## 3.Stochastic Gradient Descent"
      ]
    },
    {
      "cell_type": "code",
      "execution_count": 78,
      "metadata": {
        "colab": {
          "base_uri": "https://localhost:8080/",
          "height": 645
        },
        "id": "nOrriGbzHydA",
        "outputId": "084f2181-6181-4875-d49a-0018743a497d"
      },
      "outputs": [
        {
          "output_type": "stream",
          "name": "stdout",
          "text": [
            "Data is full rank\n",
            "data is not low rank\n",
            "Stochastic Gradient Descent\n",
            "Using Stochastic Gradient Descent\n",
            "Using regularization\n"
          ]
        },
        {
          "output_type": "stream",
          "name": "stderr",
          "text": [
            "  1%|▏         | 640/50000 [00:00<00:02, 20980.86it/s]"
          ]
        },
        {
          "output_type": "stream",
          "name": "stdout",
          "text": [
            "Model stopped Learning\n"
          ]
        },
        {
          "output_type": "stream",
          "name": "stderr",
          "text": [
            "\n"
          ]
        },
        {
          "output_type": "display_data",
          "data": {
            "text/plain": [
              "<Figure size 640x480 with 1 Axes>"
            ],
            "image/png": "[encoded data removed]"
          },
          "metadata": {}
        },
        {
          "output_type": "stream",
          "name": "stdout",
          "text": [
            "[34.71311372 10.60502672  6.67002169  5.41226321 -2.93563038  1.67007013\n",
            "  0.44047598  0.06836343  7.92256387]\n",
            "RMSE_test: 10.096919730113909\n",
            "SSE_test: 36803.151481127235\n"
          ]
        }
      ],
      "source": [
        "reg3 = LinearRegression(df3.values[:, 0:-1], df3.values[:,-1], tolerance = 0.0001,\n",
        " learning_Rate= 0.0007, max_Iteration=50000, regulerization = True,\n",
        "  regulerization_Rate = 1, batch=100, optimizer = 'SGD', error = 'RMSE')\n",
        "reg3.fit()"
      ]
    },
    {
      "cell_type": "markdown",
      "metadata": {
        "id": "m-z78GQzHydA"
      },
      "source": [
        "## After fitting the algorithm we get the following results:\n",
        "\n",
        "\n"
      ]
    },
    {
      "cell_type": "code",
      "source": [
        "from tabulate import tabulate\n",
        "\n",
        "# Data for SSE and RMSE values\n",
        "data = [\n",
        "    [\"Housing\", \"Normal Equation\", 4590.5607, 5.0783],\n",
        "    [\"\", \"Gradient Descent\", 4781.92945, 5.1831],\n",
        "    [\"\", \"Stochastic Gradient Descent\", 4576.5055, 5.07057],\n",
        "    [\"Yacht\", \"Normal Equation\", 8708.4002, 8.9796],\n",
        "    [\"\", \"Gradient Descent\",8685.67742, 8.96788],\n",
        "    [\"\", \"Stochastic Gradient Descent\", 8445.42430,8.842],\n",
        "    [\"Concrete\", \"Normal Equation\", 35650.69226, 9.93757 ],\n",
        "    [\"\", \"Gradient Descent\", 35612.5352, 9.9322],\n",
        "    [\"\", \"Stochastic Gradient Descent\", 36803.1514, 10.0969],\n",
        "]\n",
        "\n",
        "headers = [\"Dataset\", \"Method\", \"SSE\", \"RMSE\"]\n",
        "\n",
        "table = tabulate(data, headers, tablefmt=\"pipe\")\n",
        "\n",
        "print(table)\n"
      ],
      "metadata": {
        "colab": {
          "base_uri": "https://localhost:8080/"
        },
        "id": "oZRm86H0lrxu",
        "outputId": "4a09e54b-33da-48b7-c4dd-8d3ed9367ddf"
      },
      "execution_count": 86,
      "outputs": [
        {
          "output_type": "stream",
          "name": "stdout",
          "text": [
            "| Dataset   | Method                      |      SSE |     RMSE |\n",
            "|:----------|:----------------------------|---------:|---------:|\n",
            "| Housing   | Normal Equation             |  4590.56 |  5.0783  |\n",
            "|           | Gradient Descent            |  4781.93 |  5.1831  |\n",
            "|           | Stochastic Gradient Descent |  4576.51 |  5.07057 |\n",
            "| Yacht     | Normal Equation             |  8708.4  |  8.9796  |\n",
            "|           | Gradient Descent            |  8685.68 |  8.96788 |\n",
            "|           | Stochastic Gradient Descent |  8445.42 |  8.842   |\n",
            "| Concrete  | Normal Equation             | 35650.7  |  9.93757 |\n",
            "|           | Gradient Descent            | 35612.5  |  9.9322  |\n",
            "|           | Stochastic Gradient Descent | 36803.2  | 10.0969  |\n"
          ]
        }
      ]
    },
    {
      "cell_type": "markdown",
      "metadata": {
        "id": "RYjmODQxHydA"
      },
      "source": [
        "### i. Housing Data: a. It shows improved performance with the Normal Form, as it produces a lower Root Mean Square Error (RMSE).\n",
        "### ii. Yacht dataset: Stochastic Gradient Descent stands out as the preferred choice, showcasing a reduced RMSE.\n",
        "\n",
        "### iii. Concrete dataset: Gradient Descent proves to be the more effective option, resulting in a lower RMSE."
      ]
    },
    {
      "cell_type": "markdown",
      "metadata": {
        "id": "sEXpF_OxHydA"
      },
      "source": [
        "### About GD and SGD The graphs show that a fast learning rate causes the cost function to converge rapidly and need minimal iterations, but it also results in large costs because the optimal value of theta is lost during the quick convergence. Therefore, the learning rate needs to be adjusted to the proper alpha value.\n",
        "### Regularization reduces error, and our cost function can be varied by selecting the Normal, Gradient Descent, or Stochastic GD options."
      ]
    },
    {
      "cell_type": "code",
      "execution_count": 38,
      "metadata": {
        "id": "oNKFrvN0HydA"
      },
      "outputs": [],
      "source": []
    }
  ],
  "metadata": {
    "kernelspec": {
      "display_name": "Python 3",
      "language": "python",
      "name": "python3"
    },
    "language_info": {
      "codemirror_mode": {
        "name": "ipython",
        "version": 3
      },
      "file_extension": ".py",
      "mimetype": "text/x-python",
      "name": "python",
      "nbconvert_exporter": "python",
      "pygments_lexer": "ipython3",
      "version": "3.9.12"
    },
    "vscode": {
      "interpreter": {
        "hash": "ad2bdc8ecc057115af97d19610ffacc2b4e99fae6737bb82f5d7fb13d2f2c186"
      }
    },
    "colab": {
      "provenance": []
    }
  },
  "nbformat": 4,
  "nbformat_minor": 0
}